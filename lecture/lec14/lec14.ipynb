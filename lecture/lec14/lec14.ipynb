{
 "cells": [
  {
   "cell_type": "markdown",
   "id": "f53a01d8-6bf9-4d7c-909e-2237b86fbbf0",
   "metadata": {},
   "source": [
    "# Lecture 14 Notebook\n",
    "\n",
    "Data 100, Spring 2023\n",
    "\n",
    "[Acknowledgments Page](https://ds100.org/sp23/acks/)"
   ]
  },
  {
   "cell_type": "code",
   "execution_count": null,
   "id": "9132fc95",
   "metadata": {},
   "outputs": [],
   "source": [
    "import pandas as pd\n",
    "import numpy as np\n",
    "import seaborn as sns\n",
    "import matplotlib.pyplot as plt\n",
    "np.random.seed(42)\n",
    "\n",
    "#plt.rcParams['figure.figsize'] = (12, 9)\n",
    "\n",
    "sns.set()\n",
    "#sns.set_context('talk')"
   ]
  },
  {
   "cell_type": "code",
   "execution_count": null,
   "id": "81a66496",
   "metadata": {},
   "outputs": [],
   "source": [
    "tips_df = sns.load_dataset(\"tips\")\n",
    "tips_df"
   ]
  },
  {
   "cell_type": "code",
   "execution_count": null,
   "id": "ef6f49ed",
   "metadata": {},
   "outputs": [],
   "source": [
    "three_features = ['total_bill', 'size', 'day']\n",
    "\n",
    "three_feature_df = pd.DataFrame(tips_df[three_features])\n",
    "random_rows = [193, 90, 25, 26, 190]\n",
    "\n",
    "three_feature_df.iloc[random_rows, :]"
   ]
  },
  {
   "cell_type": "markdown",
   "id": "8e9c2502-311e-4833-87ba-2176fe0ce706",
   "metadata": {},
   "source": [
    "sklearn OneHotEncoder [documentation](https://scikit-learn.org/stable/modules/generated/sklearn.preprocessing.OneHotEncoder.html#sklearn.preprocessing.OneHotEncoder.get_feature_names_out)"
   ]
  },
  {
   "cell_type": "code",
   "execution_count": null,
   "id": "fc958780-bfb8-45c7-a33a-27a9b6d276d2",
   "metadata": {},
   "outputs": [],
   "source": [
    "from sklearn.preprocessing import OneHotEncoder\n",
    "oh_enc = OneHotEncoder()"
   ]
  },
  {
   "cell_type": "code",
   "execution_count": null,
   "id": "ea867e6b-742a-4627-95a2-f0f80d1a0dc2",
   "metadata": {},
   "outputs": [],
   "source": [
    "oh_enc.fit(tips_df[['day']])\n",
    "oh_enc"
   ]
  },
  {
   "cell_type": "code",
   "execution_count": null,
   "id": "ee8bcc7e-642b-4cf7-bb7b-5d74adc24f47",
   "metadata": {},
   "outputs": [],
   "source": [
    "dummies = oh_enc.transform(tips_df[['day']])\n",
    "dummies"
   ]
  },
  {
   "cell_type": "markdown",
   "id": "118cbb0f-082e-40aa-9153-0d0071065c2e",
   "metadata": {},
   "source": [
    "Sparse matrices are lightweight solutions to storing matrices with many zero elements.<br/>\n",
    "(Why would this be useful for one-hot encoded data?)"
   ]
  },
  {
   "cell_type": "code",
   "execution_count": null,
   "id": "e4a8a857-b860-416a-b8bd-e7f2ad4c71d2",
   "metadata": {},
   "outputs": [],
   "source": [
    "dummies.toarray().shape # transform to regular NumPy array"
   ]
  },
  {
   "cell_type": "markdown",
   "id": "c4b37759-8cce-49a8-a7e2-c06ecdf06afd",
   "metadata": {},
   "source": [
    "<br/><br/>\n",
    "\n",
    "Let's compare our one-hot encoded features to the original `day` feature.<br/>"
   ]
  },
  {
   "cell_type": "code",
   "execution_count": null,
   "id": "01be6f2e-e93f-42c2-969b-370e006240cc",
   "metadata": {},
   "outputs": [],
   "source": [
    "random_rows"
   ]
  },
  {
   "cell_type": "code",
   "execution_count": null,
   "id": "c44e95e6-262d-4e81-955a-98f3d715317c",
   "metadata": {},
   "outputs": [],
   "source": [
    "dummies.toarray()[random_rows,:]"
   ]
  },
  {
   "cell_type": "code",
   "execution_count": null,
   "id": "d0a34207-5463-4731-a8fa-d9061fb27b46",
   "metadata": {},
   "outputs": [],
   "source": [
    "tips_df.loc[random_rows,:]"
   ]
  },
  {
   "cell_type": "markdown",
   "id": "d2e9652e-80c8-4ce9-8d32-54327b0835ad",
   "metadata": {},
   "source": [
    "\n",
    "Note the days of week are \"out of order,\" because sklearn doesn't \"know\" that Thursday comes before Friday, etc.\n",
    "\n",
    "We can use `.get_feature_names_out()` to get sklearn's one-hot encoding order ([documentation](https://scikit-learn.org/stable/modules/generated/sklearn.preprocessing.OneHotEncoder.html#sklearn.preprocessing.OneHotEncoder.get_feature_names_out)):"
   ]
  },
  {
   "cell_type": "code",
   "execution_count": null,
   "id": "10fe0a12-b1bc-4b99-a550-83a1aec87821",
   "metadata": {},
   "outputs": [],
   "source": [
    "oh_enc.get_feature_names_out()"
   ]
  },
  {
   "cell_type": "markdown",
   "id": "d7dee712-2715-41ba-a683-f13b22b75f82",
   "metadata": {},
   "source": [
    "### Putting it all together"
   ]
  },
  {
   "cell_type": "code",
   "execution_count": null,
   "id": "1b5cde27-2629-4b09-a51f-bedfce703589",
   "metadata": {},
   "outputs": [],
   "source": [
    "from sklearn.preprocessing import OneHotEncoder\n",
    "\n",
    "oh_enc = OneHotEncoder()\n",
    "oh_enc.fit(tips_df[['day']])\n",
    "\n",
    "ohe_data = oh_enc.transform(tips_df[['day']]).toarray()\n",
    "data_w_ohe = (tips_df[three_features]\n",
    "              .join(\n",
    "                  pd.DataFrame(ohe_data, columns=oh_enc.get_feature_names_out(), index=tips_df.index)))\n",
    "data_w_ohe = data_w_ohe.drop(columns=[\"day\"]) # why do we need to do this before calling fit?\n",
    "data_w_ohe.loc[random_rows,:]\n"
   ]
  },
  {
   "cell_type": "markdown",
   "id": "f36c3be7-b752-4f79-a854-3a039763f177",
   "metadata": {},
   "source": [
    "<br/><br/>\n",
    "\n",
    "Now fitting the model with one-hot encodings:"
   ]
  },
  {
   "cell_type": "code",
   "execution_count": null,
   "id": "0084b727-43ca-461f-bc92-545ac65df5ae",
   "metadata": {},
   "outputs": [],
   "source": [
    "from sklearn.linear_model import LinearRegression\n",
    "f_with_day = LinearRegression(fit_intercept=False)\n",
    "f_with_day.fit(data_w_ohe, tips_df[\"tip\"])"
   ]
  },
  {
   "cell_type": "code",
   "execution_count": null,
   "id": "15d71004-32d1-417f-a705-a06d9df8cbad",
   "metadata": {},
   "outputs": [],
   "source": [
    "# total_bill, size, day_Fri, day_Sat, day_Sun, day_Thur\n",
    "f_with_day.predict([[50, 3, 1, 0, 0, 0]])"
   ]
  },
  {
   "cell_type": "code",
   "execution_count": null,
   "id": "d26746a3-59df-46dd-9e08-a6531bcea8f8",
   "metadata": {},
   "outputs": [],
   "source": [
    "f_with_day.intercept_"
   ]
  },
  {
   "cell_type": "code",
   "execution_count": null,
   "id": "68b27e4b-df0d-424e-999b-035c3f6b60f6",
   "metadata": {},
   "outputs": [],
   "source": [
    "f_with_day.coef_"
   ]
  },
  {
   "cell_type": "markdown",
   "id": "ae88f348",
   "metadata": {},
   "source": [
    "## High Order Polynomial Example"
   ]
  },
  {
   "cell_type": "markdown",
   "id": "98653ad7-2475-4ba1-9cb1-fb6b122a2acf",
   "metadata": {},
   "source": [
    "The code below used to generate the lecture slide plots uses two out of scope syntax concepts:\n",
    "- The sklearn Pipeline class ([documentation](https://scikit-learn.org/stable/modules/generated/sklearn.pipeline.Pipeline.html#sklearn.pipeline.Pipeline))\n",
    "- The sklearn PolynomialFeatures transformer ([documentatoin](https://scikit-learn.org/stable/modules/generated/sklearn.preprocessing.PolynomialFeatures.html))\n"
   ]
  },
  {
   "cell_type": "code",
   "execution_count": null,
   "id": "a928890c",
   "metadata": {},
   "outputs": [],
   "source": [
    "vehicle_data = sns.load_dataset(\"mpg\")\n",
    "vehicle_data = vehicle_data.rename(columns = {\"horsepower\": \"hp\"})\n",
    "vehicle_data = vehicle_data.dropna()"
   ]
  },
  {
   "cell_type": "code",
   "execution_count": null,
   "id": "7105b0ff",
   "metadata": {},
   "outputs": [],
   "source": [
    "vehicle_data"
   ]
  },
  {
   "cell_type": "code",
   "execution_count": null,
   "id": "c1bf2edf",
   "metadata": {},
   "outputs": [],
   "source": [
    "from sklearn.pipeline import Pipeline\n",
    "from sklearn.preprocessing import PolynomialFeatures\n",
    "from sklearn.metrics import mean_squared_error\n",
    "from sklearn.linear_model import LinearRegression\n",
    "\n",
    "def get_MSE_for_degree_k_model(k):\n",
    "    pipelined_model = Pipeline([\n",
    "        ('poly_transform', PolynomialFeatures(degree = k)),\n",
    "        ('regression', LinearRegression(fit_intercept = True))    \n",
    "    ])\n",
    "    pipelined_model.fit(vehicle_data[[\"hp\"]], vehicle_data[\"mpg\"])\n",
    "    return mean_squared_error(pipelined_model.predict(vehicle_data[[\"hp\"]]), vehicle_data[\"mpg\"])"
   ]
  },
  {
   "cell_type": "code",
   "execution_count": null,
   "id": "48ac191f",
   "metadata": {},
   "outputs": [],
   "source": [
    "ks = np.array(range(0, 7))\n",
    "MSEs = [get_MSE_for_degree_k_model(k) for k in ks]\n",
    "MSEs_and_k = pd.DataFrame({\"k\": ks, \"MSE\": MSEs})\n",
    "MSEs_and_k.set_index(\"k\")"
   ]
  },
  {
   "cell_type": "code",
   "execution_count": null,
   "id": "534ac604-9686-4cbc-b02c-f9e3c4901477",
   "metadata": {},
   "outputs": [],
   "source": [
    "def plot_degree_k_model(k, MSEs_and_k, axs):\n",
    "    pipelined_model = Pipeline([\n",
    "        ('poly_transform', PolynomialFeatures(degree = k)),\n",
    "        ('regression', LinearRegression(fit_intercept = True))    \n",
    "    ])\n",
    "    pipelined_model.fit(vehicle_data[[\"hp\"]], vehicle_data[\"mpg\"])\n",
    "    \n",
    "    row = k // 3\n",
    "    col = k % 3\n",
    "    ax = axs[row, col]\n",
    "    \n",
    "    sns.scatterplot(data=vehicle_data, x='hp', y='mpg', ax=ax)\n",
    "    \n",
    "    x_range = np.linspace(45, 210, 100).reshape(-1, 1)\n",
    "    ax.plot(x_range, pipelined_model.predict(pd.DataFrame(x_range, columns=['hp'])), c='orange', linewidth=2)\n",
    "    \n",
    "    ax.set_ylim((0, 50))\n",
    "    mse_str = f\"MSE: {MSEs_and_k.loc[k, 'MSE']:.4}\\norder: {k}\"\n",
    "    ax.text(150, 40, mse_str, dict(size=16))\n",
    "\n",
    "fig = plt.figure(figsize=(12, 6))\n",
    "axs = fig.subplots(nrows=2, ncols=3)\n",
    "\n",
    "for k in range(6):\n",
    "    plot_degree_k_model(k, MSEs_and_k, axs)\n",
    "fig.tight_layout()\n",
    "\n",
    "fig.savefig('higherorder')"
   ]
  },
  {
   "cell_type": "code",
   "execution_count": null,
   "id": "4d933790",
   "metadata": {},
   "outputs": [],
   "source": [
    "import plotly.graph_objects as go\n",
    "\n",
    "\n",
    "def plot_degree_k_model(k):\n",
    "    pipelined_model = Pipeline([\n",
    "        ('poly_transform', PolynomialFeatures(degree = k)),\n",
    "        ('regression', LinearRegression(fit_intercept = True))    \n",
    "    ])\n",
    "    pipelined_model.fit(vehicle_data[[\"hp\"]], vehicle_data[\"mpg\"])\n",
    "    \n",
    "    fig = go.Figure()\n",
    "\n",
    "    fig.add_trace(go.Scatter(x=vehicle_data['hp'], y = vehicle_data['mpg'], \n",
    "                        mode = \"markers\", name = \"\"))\n",
    "    \n",
    "    x_range = np.linspace(45, 210, 100)\n",
    "\n",
    "    fig.add_trace(go.Scatter(x=x_range, y = pipelined_model.predict(x_range.reshape(-1, 1)), \n",
    "                         mode = \"lines\", name = \"\"))\n",
    "    \n",
    "    fig.update_layout(font_size = 20,\n",
    "                  xaxis_title = \"hp\",\n",
    "                  yaxis_title = \"mpg\",\n",
    "                  margin=dict(l=50, r=50, b=0, t=1),\n",
    "                  showlegend = False)\n",
    "    return fig"
   ]
  },
  {
   "cell_type": "code",
   "execution_count": null,
   "id": "69cc7e95",
   "metadata": {},
   "outputs": [],
   "source": [
    "plot_degree_k_model(2)"
   ]
  },
  {
   "cell_type": "code",
   "execution_count": null,
   "id": "5d2e332b-fe54-457a-bc4f-357bb2a40929",
   "metadata": {},
   "outputs": [],
   "source": []
  },
  {
   "cell_type": "code",
   "execution_count": null,
   "id": "f107c0fd-7552-409e-b15b-4010c0434a8e",
   "metadata": {},
   "outputs": [],
   "source": []
  }
 ],
 "metadata": {
  "kernelspec": {
   "display_name": "Python 3 (ipykernel)",
   "language": "python",
   "name": "python3"
  },
  "language_info": {
   "codemirror_mode": {
    "name": "ipython",
    "version": 3
   },
   "file_extension": ".py",
   "mimetype": "text/x-python",
   "name": "python",
   "nbconvert_exporter": "python",
   "pygments_lexer": "ipython3",
   "version": "3.9.0"
  }
 },
 "nbformat": 4,
 "nbformat_minor": 5
}
