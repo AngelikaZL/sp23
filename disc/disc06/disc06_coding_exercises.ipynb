{
 "cells": [
  {
   "cell_type": "markdown",
   "source": [
    "# Discussion 6"
   ],
   "metadata": {}
  },
  {
   "cell_type": "markdown",
   "source": [
    "## Geometry of Least Squares"
   ],
   "metadata": {}
  },
  {
   "cell_type": "code",
   "execution_count": null,
   "source": [],
   "outputs": [],
   "metadata": {}
  },
  {
   "cell_type": "markdown",
   "source": [
    "## Driving with a Constant Model"
   ],
   "metadata": {}
  },
  {
   "cell_type": "markdown",
   "source": [
    "Adam is trying to use modeling to drive his car autonomously. To do this, he collects a lot of data where he drives around his neighborhood, and he wants your help to design a model that can drive on his behalf in the future using the outputs of the models you design. We will tackle two aspects of this autonomous car modeling framework: going forward and turning.\n",
    "\n",
    "We show some statistics from the collected dataset below using $\\texttt{pd.describe}$, which returns the  mean, standard deviation, quartiles, minimum, and maximum for the two columns in the dataset: $\\texttt{target_speed}$ and $\\texttt{degree_turn}$."
   ],
   "metadata": {}
  },
  {
   "cell_type": "markdown",
   "source": [
    "**(a)** Suppose the model predicts the target speed of the car. Using constant models trained on the speeds of the collected data shown above with $L_1$ and $L_2$ loss functions, which of the following is true?"
   ],
   "metadata": {}
  },
  {
   "cell_type": "markdown",
   "source": [
    "A. The model trained with the $L_1$ loss will always drive slower than the model trained with $L_2$ loss.\n",
    "\n",
    "B. The model trained with the $L_2$ loss will always drive slower than the model trained with $L_1$ loss.\n",
    "\n",
    "C. The model trained with the $L_1$ loss will sometimes drive slower than the model trained with $L_2$ loss.\n",
    "\n",
    "D. The model trained with the $L_2$ loss will sometimes drive slower than the model trained with $L_1$ loss."
   ],
   "metadata": {}
  },
  {
   "cell_type": "code",
   "execution_count": 3,
   "source": [
    "q3a = ...\n",
    "q3a"
   ],
   "outputs": [
    {
     "output_type": "execute_result",
     "data": {
      "text/plain": [
       "Ellipsis"
      ]
     },
     "metadata": {},
     "execution_count": 3
    }
   ],
   "metadata": {}
  },
  {
   "cell_type": "markdown",
   "source": [
    "**(b)** Finding that the model trained with the $L_2$ loss drives too slowly, Adam changes the loss function for the constant model where the loss is penalized \\textbf{more} if the speed is higher. That way, the model wants to optimize more for the case where we wish to drive faster since the loss is higher, accomplishing his goal. Adam writes this as $L(y, \\hat{y}) = y(y - \\hat{y})^2$.\n",
    "\n",
    "Find the optimal $\\hat{\\theta}$ for the constant model using the new empirical risk function $R(\\theta)$ below:\n",
    "\n",
    "$$\n",
    "R(\\theta) = \\frac{1}{n} \\sum_i y_i (y_i - \\theta)^2\n",
    "$$"
   ],
   "metadata": {}
  },
  {
   "cell_type": "markdown",
   "source": [],
   "metadata": {}
  },
  {
   "cell_type": "markdown",
   "source": [
    "**(c)** Suppose he is working on a model that predicts the degree of turning at a particular time between 0 and 359 degrees using the data in the $\\texttt{degree_turn}$ column. Explain why a constant model is likely inappropriate in this use case.\n",
    "\n",
    "$\\textit{Extra:}$ If you've studied some physics, you may recognize the behaviour of our constant model!"
   ],
   "metadata": {}
  },
  {
   "cell_type": "markdown",
   "source": [],
   "metadata": {}
  },
  {
   "cell_type": "markdown",
   "source": [
    "**(d)** Suppose we finally expand our modeling framework to use simple linear regression (i.e. $f_\\theta(x) = \\theta_{w,0} + \\theta_{w,1}x$). For our first simple linear regression model, we predict the turn angle ($y$) using target speed ($x$). Our optimal parameters are: $\\hat{\\theta}_{w,1} = 0.019$ and $\\hat{\\theta}_{w,0} = 143.1$.\n",
    "\n",
    "However, we realize that we actually want a model that predicts target speed (our new $y$) using turn angle, our new $x$ (instead of the other way around)! What are our new optimal parameters for this new model? ($\\textit{Hint: use the information in the table.}$)"
   ],
   "metadata": {}
  },
  {
   "cell_type": "markdown",
   "source": [],
   "metadata": {}
  },
  {
   "cell_type": "markdown",
   "source": [
    "## Modeling using Multiple Regression"
   ],
   "metadata": {}
  },
  {
   "cell_type": "markdown",
   "source": [
    "We wish to model exam grades for $\\textit{Data 100}$ students. We collect various information about student habits, such as how many hours they studied, how many hours they slept before the exam, and how many lectures they attended, and observe how well they did on the exam. Suppose you collect such information on $n$ students and wish to use a multiple-regression model to predict exam grades.\n",
    "$$\n",
    "\\begin{bmatrix}\n",
    "         1&study_1 & sleep_1 & lectures_1 \\\\\n",
    "         1&...&... &... & \\\\\n",
    "         1&...&... &... & \\\\\n",
    "\\end{bmatrix}\n",
    "$$"
   ],
   "metadata": {}
  },
  {
   "cell_type": "markdown",
   "source": [
    "**(a)** Suppose on our $n$ individuals, we construct our design matrix $\\mathbb{X}$, adding an $\\textbf{intercept term}$, and use the OLS formula to obtain the following $\\hat{\\theta}$:\n",
    "$$\n",
    "\\begin{align*}\n",
    "    \\hat{\\theta} = \\begin{bmatrix} 0.5 \\\\ 3 \\\\ 2 \\\\ 1 \\end{bmatrix}\n",
    "\\end{align*}\n",
    "$$\n",
    "\n",
    "Suppose our design matrix $\\mathbb{X}$ was constructed such that the first is the bias, the second column represents how many hours each of the $n$ students studied, the third contains how many hours each student slept before the exam, and the fourth represents how many lectures each student attended. With this knowledge, give an interpretation of what each entry of $\\hat{\\theta}$ means in context."
   ],
   "metadata": {}
  },
  {
   "cell_type": "markdown",
   "source": [],
   "metadata": {}
  },
  {
   "cell_type": "markdown",
   "source": [
    "**(b)** After fitting this model, suppose we have two individuals for which we would like to predict their exam grades using these variables. Suppose Individual 1, slept 10 hours, studied 15 hours, and attended 4 lectures. Suppose also Individual 2, slept 5 hours, studied 20 hours, and attended 10 lectures. Construct a matrix $\\mathbb{X}'$ such that, if you computed $\\mathbb{X}'\\hat{\\theta}$,\n",
    "you would obtain a vector of each individual's predicted exam scores."
   ],
   "metadata": {}
  },
  {
   "cell_type": "markdown",
   "source": [],
   "metadata": {}
  },
  {
   "cell_type": "markdown",
   "source": [
    "**(c)** Denote $\\mathbb{Y}'$ as a $2 \\times 1$ vector that represents the actual exam scores of the individuals we are predicting on. Write out an expression that evaluates to the MSE of our predictions, written as a function of the squared L2-norm of a vector."
   ],
   "metadata": {}
  },
  {
   "cell_type": "markdown",
   "source": [],
   "metadata": {}
  }
 ],
 "metadata": {
  "kernelspec": {
   "display_name": "Python 3 (ipykernel)",
   "language": "python",
   "name": "python3"
  },
  "language_info": {
   "codemirror_mode": {
    "name": "ipython",
    "version": 3
   },
   "file_extension": ".py",
   "mimetype": "text/x-python",
   "name": "python",
   "nbconvert_exporter": "python",
   "pygments_lexer": "ipython3",
   "version": "3.10.6"
  }
 },
 "nbformat": 4,
 "nbformat_minor": 5
}